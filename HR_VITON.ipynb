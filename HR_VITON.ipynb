{
  "cells": [
    {
      "cell_type": "markdown",
      "metadata": {
        "id": "view-in-github",
        "colab_type": "text"
      },
      "source": [
        "<a href=\"https://colab.research.google.com/github/cedro3/HR-VITON/blob/main/HR_VITON.ipynb\" target=\"_parent\"><img src=\"https://colab.research.google.com/assets/colab-badge.svg\" alt=\"Open In Colab\"/></a>"
      ]
    },
    {
      "cell_type": "code",
      "execution_count": null,
      "metadata": {
        "id": "eFFe1w2xXhPv"
      },
      "outputs": [],
      "source": [
        "#@title #**セットアップ**\n",
        "\n",
        "# githubからコードをコピー\n",
        "! git clone https://github.com/cedro3/HR-VITON.git\n",
        "%cd HR-VITON\n",
        "\n",
        "# ライブラリーのインストール\n",
        "! pip install tensorboardX\n",
        "! pip install torchgeometry\n",
        "\n",
        "# 学習済みパラメータのダウンロード\n",
        "import gdown\n",
        "gdown.download('https://drive.google.com/uc?id=1XJTCdRBOPVgVTmqzhVGFAgMm2NLkw5uQ', 'mtviton_step_100000.pth', quiet=False)\n",
        "gdown.download('https://drive.google.com/uc?id=1BkSA8UJo-6eOkKcXTFOHK80Esc4vBmVC', 'gen_step_110000.pth', quiet=False)\n",
        "\n",
        "# テストデータのダウンロード\n",
        "gdown.download('https://drive.google.com/uc?id=1CcgCubhLc9iF6jGACdUgGhTDWMC7Gjzr', 'test.zip', quiet=False)\n",
        "! unzip test.zip\n",
        "\n",
        "# 関数のインポート\n",
        "from function import *\n",
        "\n",
        "# warning非表示\n",
        "import warnings\n",
        "warnings.filterwarnings(\"ignore\")\n",
        "\n",
        "# ダウンロードフォルダ作成\n",
        "! mkdir download"
      ]
    },
    {
      "cell_type": "code",
      "execution_count": null,
      "metadata": {
        "id": "EV02LIh8qFCR"
      },
      "outputs": [],
      "source": [
        "#@title #**人と衣服のランダム選択**\n",
        "import glob\n",
        "import random\n",
        "import shutil\n",
        "import os\n",
        "\n",
        "# 乱数シード設定\n",
        "seed_number =  120#@param {type:\"integer\"}\n",
        "random.seed(seed_number)\n",
        "\n",
        "# imageのランダム選択\n",
        "reset_folder('image')\n",
        "image_files = sorted(glob.glob('test/test/image/*.jpg'))\n",
        "cnt = len(image_files)\n",
        "num = random.sample(range(cnt),5)\n",
        "image_names = []\n",
        "\n",
        "for i in num:\n",
        "  shutil.copy(image_files[i], 'image/'+os.path.basename(image_files[i]))\n",
        "  image_names.append(image_files[i])\n",
        "image_names.sort()\n",
        "display_pic('image')\n",
        "\n",
        "\n",
        "# clothのランダム選択\n",
        "reset_folder('cloth')\n",
        "cloth_files = sorted(glob.glob('test/test/cloth/*.jpg'))\n",
        "cnt = len(cloth_files)\n",
        "num = random.sample(range(cnt),5)\n",
        "cloth_names =[]\n",
        "\n",
        "for j in num:\n",
        "  shutil.copy(cloth_files[j], 'cloth/'+os.path.basename(cloth_files[j]))\n",
        "  cloth_names.append(cloth_files[j])\n",
        "cloth_names.sort()\n",
        "display_pic('cloth')\n",
        "\n",
        "\n",
        "# txt作成\n",
        "if os.path.isfile('test/test/test_pairs.txt'):\n",
        "  os.remove('test/test/test_pairs.txt')\n",
        "\n",
        "f = open('test/test/test_pairs.txt', 'w', encoding='UTF-8')\n",
        "for image_name in image_names:\n",
        "    for cloth_name in cloth_names:\n",
        "        f.write(os.path.basename(image_name)+' ')\n",
        "        f.write(os.path.basename(cloth_name)+'\\n')\n",
        "f.close()"
      ]
    },
    {
      "cell_type": "code",
      "execution_count": null,
      "metadata": {
        "id": "5G9VLHY_t8Gp"
      },
      "outputs": [],
      "source": [
        "#@title #**仮想試着の実行**\n",
        "reset_folder('output')\n",
        "\n",
        "! python3 test_generator.py --occlusion --tocg_checkpoint './mtviton_step_100000.pth'\\\n",
        "                             --gpu_ids 0\\\n",
        "                             --gen_checkpoint './gen_step_110000.pth'\\\n",
        "                             --datasetting unpaired\\\n",
        "                             --dataroot './test'\\\n",
        "                             --data_list './test/test_pairs.txt'\n",
        "\n",
        "clear_output()\n",
        "display_pic_png('output/mtviton_step_100000.pth/test/unpaired/generator/output')"
      ]
    },
    {
      "cell_type": "code",
      "source": [
        "#@title #**動画の作成**\n",
        "\n",
        "import cv2\n",
        "import glob\n",
        "\n",
        "reset_folder('movie1')\n",
        "reset_folder('movie2')\n",
        "\n",
        "result_files = sorted(glob.glob('output/mtviton_step_100000.pth/test/unpaired/generator/output/*.png'))\n",
        "cnt = 0\n",
        "black = cv2.imread('black.jpg')\n",
        "for image_name in image_names:\n",
        "   for cloth_name in cloth_names:\n",
        "      left = cv2.imread(image_name)\n",
        "      center = cv2.imread(cloth_name)\n",
        "      right = cv2.imread(result_files[cnt])\n",
        "      tmp = cv2.hconcat([left, center])\n",
        "      img1 = cv2.hconcat([tmp, right])\n",
        "      cv2.imwrite('movie1/'+str(cnt).zfill(4)+'.jpg', img1)\n",
        "\n",
        "      up = cv2.hconcat([black, center])\n",
        "      down = cv2.hconcat([left, right])\n",
        "      img2 = cv2.vconcat([up, down])\n",
        "      cv2.imwrite('movie2/'+str(cnt).zfill(4)+'.jpg', img2)\n",
        "      cnt +=1\n",
        "\n",
        "! ffmpeg -y -r 1 -i movie1/%04d.jpg -vcodec libx264 -pix_fmt yuv420p -loglevel error output1.mp4\n",
        "! ffmpeg -y -r 1 -i movie2/%04d.jpg -vcodec libx264 -pix_fmt yuv420p -loglevel error output2.mp4\n",
        "display_mp4('output1.mp4')"
      ],
      "metadata": {
        "id": "Lsrm_pFsOLNS"
      },
      "execution_count": null,
      "outputs": []
    },
    {
      "cell_type": "code",
      "source": [
        "#@title #**動画のダウンロード**\n",
        "\n",
        "from google.colab import files\n",
        "\n",
        "square = True #@param {type:\"boolean\"}\n",
        "if square == True:\n",
        "  shutil.copy('output2.mp4', 'download/'+str(seed_number)+'_s.mp4')\n",
        "  files.download('download/'+str(seed_number)+'_s.mp4')\n",
        "else:\n",
        "  shutil.copy('output1.mp4', 'download/'+str(seed_number)+'.mp4')\n",
        "  files.download('download/'+str(seed_number)+'.mp4')\n"
      ],
      "metadata": {
        "id": "oYL6r9OtWWL7"
      },
      "execution_count": null,
      "outputs": []
    }
  ],
  "metadata": {
    "accelerator": "GPU",
    "colab": {
      "collapsed_sections": [],
      "name": "HR-VITON",
      "provenance": [],
      "mount_file_id": "1g7JPolinhumvNb6cIKKq9P3i_ajWAiA0",
      "authorship_tag": "ABX9TyNLGKPD/4aCkRwbHOObHXwB",
      "include_colab_link": true
    },
    "gpuClass": "standard",
    "kernelspec": {
      "display_name": "Python 3",
      "name": "python3"
    },
    "language_info": {
      "name": "python"
    }
  },
  "nbformat": 4,
  "nbformat_minor": 0
}